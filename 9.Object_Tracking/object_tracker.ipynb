{
 "cells": [
  {
   "cell_type": "code",
   "execution_count": 1,
   "id": "fafe06e5",
   "metadata": {},
   "outputs": [],
   "source": [
    "import cv2\n",
    "\n",
    "tracker = cv2.TrackerKCF_create()\n",
    "video = cv2.VideoCapture(0)\n",
    "\n",
    "while True:\n",
    "    k,frame = video.read()\n",
    "    cv2.imshow(\"Tracking\",frame)\n",
    "    k = cv2.waitKey(30) & 0xff\n",
    "    if k == 27:\n",
    "        break\n",
    "bbox = cv2.selectROI(frame, False)\n",
    "\n",
    "ok = tracker.init(frame, bbox)\n",
    "cv2.destroyWindow(\"ROI selector\")\n",
    "\n",
    "while True:\n",
    "    ok, frame = video.read()\n",
    "    ok, bbox = tracker.update(frame)\n",
    "\n",
    "    if ok:\n",
    "        p1 = (int(bbox[0]), int(bbox[1]))\n",
    "        p2 = (int(bbox[0] + bbox[2]),\n",
    "              int(bbox[1] + bbox[3]))\n",
    "        cv2.rectangle(frame, p1, p2, (0,0,255), 2, 2)\n",
    "\n",
    "    cv2.imshow(\"Tracking\", frame)\n",
    "    k = cv2.waitKey(1) & 0xff\n",
    "    if k == 27 : break"
   ]
  },
  {
   "cell_type": "code",
   "execution_count": null,
   "id": "bcec926c",
   "metadata": {},
   "outputs": [],
   "source": []
  }
 ],
 "metadata": {
  "kernelspec": {
   "display_name": "Python 3",
   "language": "python",
   "name": "python3"
  },
  "language_info": {
   "codemirror_mode": {
    "name": "ipython",
    "version": 3
   },
   "file_extension": ".py",
   "mimetype": "text/x-python",
   "name": "python",
   "nbconvert_exporter": "python",
   "pygments_lexer": "ipython3",
   "version": "3.9.3"
  }
 },
 "nbformat": 4,
 "nbformat_minor": 5
}
