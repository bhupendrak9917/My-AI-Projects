{
 "cells": [
  {
   "cell_type": "code",
   "execution_count": 10,
   "metadata": {},
   "outputs": [],
   "source": [
    "from tkinter import *\n",
    "from bs4 import BeautifulSoup\n",
    "import requests\n",
    "from difflib import get_close_matches\n",
    "import webbrowser\n",
    "from collections import defaultdict\n",
    "import random\n",
    "\n",
    "root = Tk()\n",
    "root.geometry(\"320x150\")\n",
    "\n",
    "class Price_compare:\n",
    "\n",
    "    def __init__(self, master):\n",
    "        \n",
    "        self.var = StringVar()\n",
    "        self.var_ebay = StringVar()\n",
    "        self.var_flipkart = StringVar()\n",
    "        self.var_amzn = StringVar()\n",
    "\n",
    "        label = Label(master, text='Enter the product')\n",
    "        label.grid(row=0, column=0,padx=(30,10),pady=30)\n",
    "\n",
    "        entry = Entry(master, textvariable=self.var)\n",
    "        entry.grid(row=0, column=1)\n",
    "\n",
    "        button_find = Button(master, text='Find', bd=4, command=self.find)\n",
    "        button_find.grid(row=1, column=1, sticky=W, pady=8)\n",
    "\n",
    "    def find(self):\n",
    "        self.product = self.var.get()\n",
    "        self.product_arr = self.product.split()\n",
    "        self.n = 1\n",
    "        self.key = \"\"\n",
    "        self.title_flip_var = StringVar()\n",
    "        self.title_amzn_var = StringVar()\n",
    "        self.variable_amzn = StringVar()\n",
    "        self.variable_flip = StringVar()\n",
    "\n",
    "        for word in self.product_arr:\n",
    "            if self.n == 1:\n",
    "                self.key = self.key + str(word)\n",
    "                self.n += 1\n",
    "\n",
    "            else:\n",
    "                self.key = self.key + '+' + str(word)\n",
    "\n",
    "        self.window = Toplevel(root)\n",
    "        self.window.title('Comparision of prices')\n",
    "        label_title_flip = Label(self.window, text='Flipkart Title:')\n",
    "        label_title_flip.grid(row=0, column=0, sticky=W)\n",
    "\n",
    "        label_flipkart = Label(self.window, text='Flipkart price (Rs):')\n",
    "        label_flipkart.grid(row=1, column=0, sticky=W)\n",
    "\n",
    "        entry_flipkart = Entry(self.window, textvariable=self.var_flipkart)\n",
    "        entry_flipkart.grid(row=1, column=1, sticky=W)\n",
    "\n",
    "        label_title_amzn = Label(self.window, text='Amazon Title:')\n",
    "        label_title_amzn.grid(row=3, column=0, sticky=W)\n",
    "\n",
    "        label_amzn = Label(self.window, text='Amazon price (Rs):')\n",
    "        label_amzn.grid(row=4, column=0, sticky=W)\n",
    "\n",
    "        entry_amzn = Entry(self.window, textvariable=self.var_amzn)\n",
    "        entry_amzn.grid(row=4, column=1, sticky=W)\n",
    "\n",
    "        self.price_flipkart(self.key)\n",
    "        self.price_amzn(self.key)\n",
    "\n",
    "        try:\n",
    "            self.variable_amzn.set(self.matches_amzn[0])\n",
    "        except:\n",
    "            self.variable_amzn.set('Product not available')\n",
    "        try:\n",
    "            self.variable_flip.set(self.matches_flip[0])\n",
    "        except:\n",
    "            self.variable_flip.set('Product not available')\n",
    "\n",
    "        option_amzn = OptionMenu(self.window, self.variable_amzn, *self.matches_amzn)\n",
    "        option_amzn.grid(row=3, column=1, sticky=W)\n",
    "\n",
    "        lab_amz = Label(self.window, text='Not this? Try out suggestions by clicking on the title')\n",
    "        lab_amz.grid(row=3, column=2, padx=4)\n",
    "\n",
    "        option_flip = OptionMenu(self.window, self.variable_flip, *self.matches_flip)\n",
    "        option_flip.grid(row=0, column=1, sticky=W)\n",
    "\n",
    "        lab_flip = Label(self.window, text='Not this? Try out suggestions by clicking on the title')\n",
    "        lab_flip.grid(row=0, column=2, padx=4)\n",
    "\n",
    "        button_search = Button(self.window, text='Search', command=self.search, bd=4)\n",
    "        button_search.grid(row=2, column=2, sticky=E, padx=10, pady=4)\n",
    "\n",
    "        button_amzn_visit = Button(self.window, text='Visit Site', command=self.visit_amzn, bd=4)\n",
    "        button_amzn_visit.grid(row=4, column=2, sticky=W)\n",
    "\n",
    "        button_flip_visit = Button(self.window, text='Visit Site', command=self.visit_flip, bd=4)\n",
    "        button_flip_visit.grid(row=1, column=2, sticky=W)\n",
    "\n",
    "    def price_flipkart(self, key):\n",
    "        url_flip = 'https://www.flipkart.com/search?q=' + str(\n",
    "            key) + '&marketplace=FLIPKART&otracker=start&as-show=on&as=off'\n",
    "        map = defaultdict(list)\n",
    "\n",
    "        self.headers = {\n",
    "            'User-Agent': 'Mozilla/5.0 (Macintosh; Intel Mac OS X 10_10_1) AppleWebKit/537.36 (KHTML, like Gecko) Chrome/39.0.2171.95 Safari/537.36'}\n",
    "        source_code = requests.get(url_flip, headers=self.headers)\n",
    "        soup = BeautifulSoup(source_code.text, \"html.parser\")\n",
    "        self.opt_title_flip = StringVar()\n",
    "        home = 'https://www.flipkart.com'\n",
    "        for block in soup.find_all('div', {'class': '_2kHMtA'}):\n",
    "            title, price, link = None, 'Currently Unavailable', None\n",
    "            for heading in block.find_all('div', {'class': '_4rR01T'}):\n",
    "                title = heading.text\n",
    "            for p in block.find_all('div', {'class': '_30jeq3 _1_WHN1'}):\n",
    "                price = p.text[1:]\n",
    "            for l in block.find_all('a', {'class': '_1fQZEK'}):\n",
    "                link = home + l.get('href')\n",
    "            map[title] = [price, link]\n",
    "\n",
    "        user_input = self.var.get().title()\n",
    "        self.matches_flip = get_close_matches(user_input, map.keys(), 20, 0.1)\n",
    "        self.looktable_flip = {}\n",
    "        for title in self.matches_flip:\n",
    "            self.looktable_flip[title] = map[title]\n",
    "\n",
    "        try:\n",
    "            self.opt_title_flip.set(self.matches_flip[0])\n",
    "            self.var_flipkart.set(self.looktable_flip[self.matches_flip[0]][0] + '.00')\n",
    "            self.link_flip = self.looktable_flip[self.matches_flip[0]][1]\n",
    "        except IndexError:\n",
    "            self.opt_title_flip.set('Product not found')\n",
    "\n",
    "    def price_amzn(self, key):\n",
    "        url_amzn = 'https://www.amazon.in/s/ref=nb_sb_noss_2?url=search-alias%3Daps&field-keywords=' + str(key)\n",
    "\n",
    "        # Faking the visit from a browser\n",
    "        headers = {\n",
    "            'authority': 'www.amazon.com',\n",
    "            'pragma': 'no-cache',\n",
    "            'cache-control': 'no-cache',\n",
    "            'dnt': '1',\n",
    "            'upgrade-insecure-requests': '1',\n",
    "            'user-agent': 'Mozilla/5.0 (X11; CrOS x86_64 8172.45.0) AppleWebKit/537.36 (KHTML, like Gecko) Chrome/51.0.2704.64 Safari/537.36',\n",
    "            'accept': 'text/html,application/xhtml+xml,application/xml;q=0.9,image/webp,image/apng,*/*;q=0.8,application/signed-exchange;v=b3;q=0.9',\n",
    "            'sec-fetch-site': 'none',\n",
    "            'sec-fetch-mode': 'navigate',\n",
    "            'sec-fetch-dest': 'document',\n",
    "            'accept-language': 'en-GB,en-US;q=0.9,en;q=0.8',\n",
    "        }\n",
    "\n",
    "        map = defaultdict(list)\n",
    "        home = 'https://www.amazon.in'\n",
    "        source_code = requests.get(url_amzn, headers=headers)\n",
    "        plain_text = source_code.text\n",
    "        self.opt_title = StringVar()\n",
    "        self.soup = BeautifulSoup(plain_text, \"html.parser\")\n",
    "        # print(self.soup)\n",
    "        for html in self.soup.find_all('div', {'class': 'sg-col-inner'}):\n",
    "            title, link = None, None\n",
    "            for heading in html.find_all('span', {'class': 'a-size-medium a-color-base a-text-normal'}):\n",
    "                title = heading.text\n",
    "            for p in html.find_all('span', {'class': 'a-price-whole'}):\n",
    "                price = p.text\n",
    "            for l in html.find_all('a', {'class': 'a-link-normal a-text-normal'}):\n",
    "                link = home + l.get('href')\n",
    "            # print(title,link,price)\n",
    "            if title and link:\n",
    "                map[title] = [price, link]\n",
    "        user_input = self.var.get().title()\n",
    "        self.matches_amzn = get_close_matches(user_input, list(map.keys()), 20, 0.01)\n",
    "        self.looktable = {}\n",
    "        for title in self.matches_amzn:\n",
    "            self.looktable[title] = map[title]\n",
    "        self.opt_title.set(self.matches_amzn[0])\n",
    "        self.var_amzn.set(self.looktable[self.matches_amzn[0]][0] + '.00')\n",
    "        self.product_link = self.looktable[self.matches_amzn[0]][1]\n",
    "\n",
    "    def search(self):\n",
    "        amzn_get = self.variable_amzn.get()\n",
    "        self.opt_title.set(amzn_get)\n",
    "        product = self.opt_title.get()\n",
    "        price, self.product_link = self.looktable[product][0], self.looktable[product][1]\n",
    "        self.var_amzn.set(price + '.00')\n",
    "        flip_get = self.variable_flip.get()\n",
    "        flip_price, self.link_flip = self.looktable_flip[flip_get][0], self.looktable_flip[flip_get][1]\n",
    "        self.var_flipkart.set(flip_price + '.00')\n",
    "\n",
    "    def visit_amzn(self):\n",
    "        webbrowser.open(self.product_link)\n",
    "\n",
    "    def visit_flip(self):\n",
    "        webbrowser.open(self.link_flip)\n",
    "\n",
    "if __name__ == \"__main__\":\n",
    "    c = Price_compare(root)\n",
    "    root.title('Price Comparison Engine')\n",
    "    root.mainloop()"
   ]
  },
  {
   "cell_type": "code",
   "execution_count": 9,
   "metadata": {},
   "outputs": [
    {
     "ename": "TypeError",
     "evalue": "get_close_matches() missing 2 required positional arguments: 'word' and 'possibilities'",
     "output_type": "error",
     "traceback": [
      "\u001b[1;31m---------------------------------------------------------------------------\u001b[0m",
      "\u001b[1;31mTypeError\u001b[0m                                 Traceback (most recent call last)",
      "\u001b[1;32m~\\AppData\\Local\\Temp/ipykernel_15540/3595517296.py\u001b[0m in \u001b[0;36m<module>\u001b[1;34m\u001b[0m\n\u001b[0;32m      1\u001b[0m \u001b[1;32mfrom\u001b[0m \u001b[0mdifflib\u001b[0m \u001b[1;32mimport\u001b[0m \u001b[0mget_close_matches\u001b[0m\u001b[1;33m\u001b[0m\u001b[1;33m\u001b[0m\u001b[0m\n\u001b[1;32m----> 2\u001b[1;33m \u001b[0mget_close_matches\u001b[0m\u001b[1;33m(\u001b[0m\u001b[1;33m)\u001b[0m\u001b[1;33m\u001b[0m\u001b[1;33m\u001b[0m\u001b[0m\n\u001b[0m",
      "\u001b[1;31mTypeError\u001b[0m: get_close_matches() missing 2 required positional arguments: 'word' and 'possibilities'"
     ]
    }
   ],
   "source": [
    "from difflib import get_close_matches\n",
    "get_close_matches()"
   ]
  },
  {
   "cell_type": "code",
   "execution_count": 2,
   "metadata": {},
   "outputs": [],
   "source": [
    "arr = \"my name is bhupendra kumar\"\n",
    "arr1 = arr.split()"
   ]
  },
  {
   "cell_type": "code",
   "execution_count": 3,
   "metadata": {},
   "outputs": [
    {
     "data": {
      "text/plain": [
       "['my', 'name', 'is', 'bhupendra', 'kumar']"
      ]
     },
     "execution_count": 3,
     "metadata": {},
     "output_type": "execute_result"
    }
   ],
   "source": [
    "arr1"
   ]
  },
  {
   "cell_type": "code",
   "execution_count": 6,
   "metadata": {},
   "outputs": [
    {
     "data": {
      "text/plain": [
       "list"
      ]
     },
     "execution_count": 6,
     "metadata": {},
     "output_type": "execute_result"
    }
   ],
   "source": [
    "type(arr1)"
   ]
  },
  {
   "cell_type": "code",
   "execution_count": 7,
   "metadata": {},
   "outputs": [
    {
     "name": "stdout",
     "output_type": "stream",
     "text": [
      "+my\n",
      "+my+name\n",
      "+my+name+is\n",
      "+my+name+is+bhupendra\n",
      "+my+name+is+bhupendra+kumar\n"
     ]
    }
   ],
   "source": [
    "ar = \"\"\n",
    "for i in arr1:\n",
    "    ar = ar+\"+\"+i\n",
    "    print(ar)"
   ]
  },
  {
   "cell_type": "code",
   "execution_count": null,
   "metadata": {},
   "outputs": [],
   "source": []
  }
 ],
 "metadata": {
  "kernelspec": {
   "display_name": "Python 3 (ipykernel)",
   "language": "python",
   "name": "python3"
  },
  "language_info": {
   "codemirror_mode": {
    "name": "ipython",
    "version": 3
   },
   "file_extension": ".py",
   "mimetype": "text/x-python",
   "name": "python",
   "nbconvert_exporter": "python",
   "pygments_lexer": "ipython3",
   "version": "3.9.7"
  }
 },
 "nbformat": 4,
 "nbformat_minor": 4
}
